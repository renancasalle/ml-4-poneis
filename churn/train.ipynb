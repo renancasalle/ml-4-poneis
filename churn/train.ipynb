{
 "cells": [
  {
   "cell_type": "code",
   "execution_count": null,
   "id": "690373d1",
   "metadata": {},
   "outputs": [],
   "source": [
    "import pandas as pd\n",
    "\n",
    "df = pd.read_csv('../data/abt_churn.csv')\n",
    "df.head()"
   ]
  },
  {
   "cell_type": "code",
   "execution_count": null,
   "id": "a060a0bc",
   "metadata": {},
   "outputs": [],
   "source": [
    "oot = df[df[\"dtRef\"]==df['dtRef'].max()].copy()\n",
    "oot.head() "
   ]
  },
  {
   "cell_type": "code",
   "execution_count": null,
   "id": "fa6457d9",
   "metadata": {},
   "outputs": [],
   "source": [
    "df_train = df[df['dtRef']<df['dtRef'].max()].copy()\n",
    "df_train.head()"
   ]
  },
  {
   "cell_type": "code",
   "execution_count": null,
   "id": "dd326b90",
   "metadata": {},
   "outputs": [],
   "source": [
    "features = df_train.columns[2:-1]\n",
    "\n",
    "target = 'flagChurn'\n",
    "\n",
    "X, y = df_train[features], df_train[target]"
   ]
  },
  {
   "cell_type": "markdown",
   "id": "02841f1d",
   "metadata": {},
   "source": [
    "Sample"
   ]
  },
  {
   "cell_type": "code",
   "execution_count": null,
   "id": "1d9d4d7f",
   "metadata": {},
   "outputs": [],
   "source": [
    "from sklearn import model_selection \n",
    "\n",
    "X_train, X_test, y_train, y_test = model_selection.train_test_split(X, y,\n",
    "                                                                    random_state=42,\n",
    "                                                                    test_size=0.2,\n",
    "                                                                    stratify=y)"
   ]
  },
  {
   "cell_type": "code",
   "execution_count": null,
   "id": "fc6ffe4d",
   "metadata": {},
   "outputs": [],
   "source": [
    "print(\"Taxa variável resposta no treino: %.2f%%\" % (y_train.mean()*100))\n",
    "print(\"Taxa variável resposta no treino: %.2f%%\" % (y_test.mean()*100))"
   ]
  },
  {
   "cell_type": "markdown",
   "id": "c7a46bba",
   "metadata": {},
   "source": [
    "Explore"
   ]
  },
  {
   "cell_type": "code",
   "execution_count": null,
   "id": "fd4ab4e3",
   "metadata": {},
   "outputs": [],
   "source": [
    "X_train.isna().sum().sort_values(ascending=False)"
   ]
  },
  {
   "cell_type": "code",
   "execution_count": null,
   "id": "b4dfdcb4",
   "metadata": {},
   "outputs": [],
   "source": [
    "pd.options.display.max_rows = 500\n",
    "pd.options.display.max_columns = 500"
   ]
  },
  {
   "cell_type": "code",
   "execution_count": null,
   "id": "0a61caa5",
   "metadata": {},
   "outputs": [],
   "source": [
    "df_analise = X_train.copy()\n",
    "df_analise[target] = y_train\n",
    "\n",
    "summary = df_analise.groupby(by=target).agg(['mean', 'median']).T\n",
    "summary"
   ]
  },
  {
   "cell_type": "code",
   "execution_count": null,
   "id": "9fcb1191",
   "metadata": {},
   "outputs": [],
   "source": [
    "summary['diff_abs'] = summary[0] - summary[1]\n",
    "summary['diff_rel'] = summary[0] / summary[1] \n",
    "summary = summary.sort_values(by='diff_rel', ascending=False)\n",
    "summary.head()"
   ]
  },
  {
   "cell_type": "code",
   "execution_count": null,
   "id": "d3cd0d0e",
   "metadata": {},
   "outputs": [],
   "source": [
    "from sklearn import tree\n",
    "\n",
    "model_tree = tree.DecisionTreeClassifier(random_state=42,)\n",
    "\n",
    "model_tree.fit(X_train, y_train)"
   ]
  },
  {
   "cell_type": "code",
   "execution_count": null,
   "id": "31376dac",
   "metadata": {},
   "outputs": [],
   "source": [
    "feature_importances = (pd.Series(model_tree.feature_importances_, index=X_train.columns)\n",
    "                       .sort_values(ascending=False)\n",
    "                       .reset_index()\n",
    "                       )\n",
    "\n",
    "feature_importances['acum.'] = feature_importances[0].cumsum()\n",
    "feature_importances[feature_importances['acum.'] < 0.96]"
   ]
  },
  {
   "cell_type": "code",
   "execution_count": null,
   "id": "18225996",
   "metadata": {},
   "outputs": [],
   "source": [
    "best_features = (feature_importances['acum.'] < 0.96).sum()\n",
    "best_features"
   ]
  },
  {
   "cell_type": "code",
   "execution_count": null,
   "id": "b7fc0dcd",
   "metadata": {},
   "outputs": [],
   "source": [
    "from feature_engine import discretisation \n",
    "from feature_engine import encoding\n",
    "\n",
    "# modify\n",
    "\n",
    "top_features = feature_importances.loc[:best_features-1, 'index'].tolist()\n",
    "\n",
    "# discretisation \n",
    "\n",
    "tree_discretisation = discretisation.DecisionTreeDiscretiser(\n",
    "    variables=top_features,\n",
    "    regression=False,\n",
    "    bin_output='bin_number',\n",
    "    cv=3\n",
    ")\n",
    "\n",
    "#onehot\n",
    "\n",
    "onehot = encoding.OneHotEncoder(variables=top_features, ignore_format=True)"
   ]
  },
  {
   "cell_type": "code",
   "execution_count": null,
   "id": "5fa3f385",
   "metadata": {},
   "outputs": [],
   "source": [
    "from sklearn import linear_model\n",
    "from sklearn import naive_bayes\n",
    "from sklearn import ensemble\n",
    "\n",
    "#model\n",
    "\n",
    "# model = linear_model.LogisticRegression(penalty=None, max_iter=1000, random_state=42)\n",
    "#model = naive_bayes.BernoulliNB()\n",
    "model = ensemble.RandomForestClassifier(random_state=42,\n",
    "                                        min_samples_leaf=20,\n",
    "                                        n_jobs=-1\n",
    "                                        n_estimators=100\n",
    "                                        )"
   ]
  },
  {
   "cell_type": "code",
   "execution_count": null,
   "id": "571203bc",
   "metadata": {},
   "outputs": [],
   "source": [
    "from sklearn import pipeline\n",
    "\n",
    "model_pipeline = pipeline.Pipeline(\n",
    "    steps=[\n",
    "        ('discretisation', tree_discretisation),\n",
    "        ('onehot', onehot),\n",
    "        ('logistic_regression', model),\n",
    "    ]\n",
    ")\n",
    "\n",
    "model_pipeline.fit(X_train, y_train)"
   ]
  },
  {
   "cell_type": "code",
   "execution_count": null,
   "id": "950cae4b",
   "metadata": {},
   "outputs": [],
   "source": [
    "from sklearn import metrics\n",
    "\n",
    "y_train_predict = model_pipeline.predict(X_test)\n",
    "y_train_proba = model_pipeline.predict_proba(X_test)[:, 1]\n",
    "\n",
    "acc_train = metrics.accuracy_score(y_test, y_train_predict)\n",
    "auc_train = metrics.roc_auc_score(y_test, y_train_proba)\n",
    "roc_train = metrics.roc_curve(y_test, y_train_proba)\n",
    "\n",
    "print(\"Acurácia no treino: %.2f%%\" % (acc_train*100))\n",
    "print(\"AUC no treino: %.2f%%\" % (auc_train*100))"
   ]
  },
  {
   "cell_type": "code",
   "execution_count": null,
   "id": "5deaf8a9",
   "metadata": {},
   "outputs": [],
   "source": [
    "y_test_predict = model_pipeline.predict(X_test)\n",
    "y_test_proba = model_pipeline.predict_proba(X_test)[:, 1]\n",
    "\n",
    "acc_test = metrics.accuracy_score(y_test, y_test_predict)\n",
    "auc_test = metrics.roc_auc_score(y_test, y_test_proba)\n",
    "roc_test = metrics.roc_curve(y_test, y_test_proba)\n",
    "\n",
    "print(\"Acurácia no teste: %.2f%%\" % (acc_test*100))\n",
    "print(\"AUC no teste: %.2f%%\" % (auc_test*100))"
   ]
  },
  {
   "cell_type": "code",
   "execution_count": null,
   "id": "515364cc",
   "metadata": {},
   "outputs": [],
   "source": [
    "y_oot_predict = model_pipeline.predict(oot[features])\n",
    "y_oot_proba = model_pipeline.predict_proba(oot[features])[:, 1]\n",
    "\n",
    "acc_oot = metrics.accuracy_score(oot[target], y_oot_predict)\n",
    "auc_oot = metrics.roc_auc_score(oot[target], y_oot_proba)\n",
    "roc_oot = metrics.roc_curve(oot[target], y_oot_proba)\n",
    "\n",
    "print(\"Acurácia no OOT: %.2f%%\" % (acc_oot*100))\n",
    "print(\"AUC no OOT: %.2f%%\" % (auc_oot*100))"
   ]
  },
  {
   "cell_type": "code",
   "execution_count": null,
   "id": "24d60706",
   "metadata": {},
   "outputs": [],
   "source": [
    "import matplotlib.pyplot as plt\n",
    "\n",
    "plt.plot(roc_train[0], roc_train[1])\n",
    "plt.plot(roc_test[0], roc_test[1])\n",
    "plt.plot(roc_oot[0], roc_oot[1])\n",
    "plt.grid(True)\n",
    "plt.title('ROC Curve')\n",
    "plt.legend([\n",
    "    f'Train: {auc_train:.2f}',\n",
    "    f'Test: {auc_test:.2f}',\n",
    "    f'OOT: {auc_oot:.2f}',\n",
    "])"
   ]
  }
 ],
 "metadata": {
  "kernelspec": {
   "display_name": "Python 3",
   "language": "python",
   "name": "python3"
  },
  "language_info": {
   "codemirror_mode": {
    "name": "ipython",
    "version": 3
   },
   "file_extension": ".py",
   "mimetype": "text/x-python",
   "name": "python",
   "nbconvert_exporter": "python",
   "pygments_lexer": "ipython3",
   "version": "3.12.10"
  }
 },
 "nbformat": 4,
 "nbformat_minor": 5
}
