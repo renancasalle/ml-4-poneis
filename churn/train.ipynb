{
 "cells": [
  {
   "cell_type": "code",
   "execution_count": null,
   "id": "690373d1",
   "metadata": {},
   "outputs": [],
   "source": [
    "import pandas as pd\n",
    "\n",
    "df = pd.read_csv('../data/abt_churn.csv')\n",
    "df.head()"
   ]
  },
  {
   "cell_type": "code",
   "execution_count": null,
   "id": "a060a0bc",
   "metadata": {},
   "outputs": [],
   "source": [
    "oot = df[df[\"dtRef\"]==df['dtRef'].max()].copy()\n",
    "oot.head() "
   ]
  },
  {
   "cell_type": "code",
   "execution_count": null,
   "id": "fa6457d9",
   "metadata": {},
   "outputs": [],
   "source": [
    "df_train = df[df['dtRef']<df['dtRef'].max()].copy()\n",
    "df_train.head()"
   ]
  },
  {
   "cell_type": "code",
   "execution_count": 15,
   "id": "dd326b90",
   "metadata": {},
   "outputs": [],
   "source": [
    "features = df_train.columns[2:-1]\n",
    "\n",
    "target = 'flagChurn'\n",
    "\n",
    "X, y = df_train[features], df_train[target]"
   ]
  },
  {
   "cell_type": "code",
   "execution_count": 21,
   "id": "1d9d4d7f",
   "metadata": {},
   "outputs": [],
   "source": [
    "from sklearn import model_selection \n",
    "\n",
    "X_train, X_test, y_train, y_test = model_selection.train_test_split(X, y,\n",
    "                                                                    random_state=42,\n",
    "                                                                    test_size=0.2,\n",
    "                                                                    stratify=y)"
   ]
  },
  {
   "cell_type": "code",
   "execution_count": 22,
   "id": "fc6ffe4d",
   "metadata": {},
   "outputs": [
    {
     "name": "stdout",
     "output_type": "stream",
     "text": [
      "Taxa variável resposta no treino: 46.89%\n",
      "Taxa variável resposta no treino: 46.87%\n"
     ]
    }
   ],
   "source": [
    "print(\"Taxa variável resposta no treino: %.2f%%\" % (y_train.mean()*100))\n",
    "print(\"Taxa variável resposta no treino: %.2f%%\" % (y_test.mean()*100))"
   ]
  }
 ],
 "metadata": {
  "kernelspec": {
   "display_name": "Python 3",
   "language": "python",
   "name": "python3"
  },
  "language_info": {
   "codemirror_mode": {
    "name": "ipython",
    "version": 3
   },
   "file_extension": ".py",
   "mimetype": "text/x-python",
   "name": "python",
   "nbconvert_exporter": "python",
   "pygments_lexer": "ipython3",
   "version": "3.12.10"
  }
 },
 "nbformat": 4,
 "nbformat_minor": 5
}
